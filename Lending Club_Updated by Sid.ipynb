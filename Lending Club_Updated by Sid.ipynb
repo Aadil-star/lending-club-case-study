{
 "cells": [
  {
   "cell_type": "code",
   "execution_count": 2,
   "id": "2d6b37d9",
   "metadata": {
    "scrolled": true
   },
   "outputs": [],
   "source": [
    "#import all the necessary libraries\n",
    "\n",
    "import numpy as np\n",
    "import pandas as pd\n",
    "import seaborn as sns\n",
    "import matplotlib.pyplot as plt\n",
    "\n",
    "#If you remove this you'll see only 10 rows truncated with '...'\n",
    "pd.options.display.max_rows = 4000"
   ]
  },
  {
   "cell_type": "code",
   "execution_count": 4,
   "id": "bece4e9d",
   "metadata": {
    "scrolled": false
   },
   "outputs": [],
   "source": [
    "#Reading the CSV file\n",
    "#Make sure the CSV file is in the same file as the python kernel \n",
    "#Alternatively replace the CSV path in below code\n",
    "\n",
    "loans = pd.read_csv(\"loan.csv\",encoding='ISO-8859-1',low_memory=False)\n",
    "\n",
    "#Converting the interest rate from type string to float\n",
    "loans['int_rate'] = loans['int_rate'].str.split('%').str[0].astype(float)"
   ]
  },
  {
   "cell_type": "code",
   "execution_count": 5,
   "id": "d002125e",
   "metadata": {
    "scrolled": true
   },
   "outputs": [
    {
     "data": {
      "text/html": [
       "<div>\n",
       "<style scoped>\n",
       "    .dataframe tbody tr th:only-of-type {\n",
       "        vertical-align: middle;\n",
       "    }\n",
       "\n",
       "    .dataframe tbody tr th {\n",
       "        vertical-align: top;\n",
       "    }\n",
       "\n",
       "    .dataframe thead th {\n",
       "        text-align: right;\n",
       "    }\n",
       "</style>\n",
       "<table border=\"1\" class=\"dataframe\">\n",
       "  <thead>\n",
       "    <tr style=\"text-align: right;\">\n",
       "      <th></th>\n",
       "      <th>id</th>\n",
       "      <th>member_id</th>\n",
       "      <th>loan_amnt</th>\n",
       "      <th>funded_amnt</th>\n",
       "      <th>funded_amnt_inv</th>\n",
       "      <th>int_rate</th>\n",
       "      <th>installment</th>\n",
       "      <th>annual_inc</th>\n",
       "      <th>dti</th>\n",
       "      <th>delinq_2yrs</th>\n",
       "      <th>...</th>\n",
       "      <th>num_tl_90g_dpd_24m</th>\n",
       "      <th>num_tl_op_past_12m</th>\n",
       "      <th>pct_tl_nvr_dlq</th>\n",
       "      <th>percent_bc_gt_75</th>\n",
       "      <th>pub_rec_bankruptcies</th>\n",
       "      <th>tax_liens</th>\n",
       "      <th>tot_hi_cred_lim</th>\n",
       "      <th>total_bal_ex_mort</th>\n",
       "      <th>total_bc_limit</th>\n",
       "      <th>total_il_high_credit_limit</th>\n",
       "    </tr>\n",
       "  </thead>\n",
       "  <tbody>\n",
       "    <tr>\n",
       "      <th>count</th>\n",
       "      <td>3.971700e+04</td>\n",
       "      <td>3.971700e+04</td>\n",
       "      <td>39717.000000</td>\n",
       "      <td>39717.000000</td>\n",
       "      <td>39717.000000</td>\n",
       "      <td>39717.000000</td>\n",
       "      <td>39717.000000</td>\n",
       "      <td>3.971700e+04</td>\n",
       "      <td>39717.000000</td>\n",
       "      <td>39717.000000</td>\n",
       "      <td>...</td>\n",
       "      <td>0.0</td>\n",
       "      <td>0.0</td>\n",
       "      <td>0.0</td>\n",
       "      <td>0.0</td>\n",
       "      <td>39020.000000</td>\n",
       "      <td>39678.0</td>\n",
       "      <td>0.0</td>\n",
       "      <td>0.0</td>\n",
       "      <td>0.0</td>\n",
       "      <td>0.0</td>\n",
       "    </tr>\n",
       "    <tr>\n",
       "      <th>mean</th>\n",
       "      <td>6.831319e+05</td>\n",
       "      <td>8.504636e+05</td>\n",
       "      <td>11219.443815</td>\n",
       "      <td>10947.713196</td>\n",
       "      <td>10397.448868</td>\n",
       "      <td>12.021177</td>\n",
       "      <td>324.561922</td>\n",
       "      <td>6.896893e+04</td>\n",
       "      <td>13.315130</td>\n",
       "      <td>0.146512</td>\n",
       "      <td>...</td>\n",
       "      <td>NaN</td>\n",
       "      <td>NaN</td>\n",
       "      <td>NaN</td>\n",
       "      <td>NaN</td>\n",
       "      <td>0.043260</td>\n",
       "      <td>0.0</td>\n",
       "      <td>NaN</td>\n",
       "      <td>NaN</td>\n",
       "      <td>NaN</td>\n",
       "      <td>NaN</td>\n",
       "    </tr>\n",
       "    <tr>\n",
       "      <th>std</th>\n",
       "      <td>2.106941e+05</td>\n",
       "      <td>2.656783e+05</td>\n",
       "      <td>7456.670694</td>\n",
       "      <td>7187.238670</td>\n",
       "      <td>7128.450439</td>\n",
       "      <td>3.724825</td>\n",
       "      <td>208.874874</td>\n",
       "      <td>6.379377e+04</td>\n",
       "      <td>6.678594</td>\n",
       "      <td>0.491812</td>\n",
       "      <td>...</td>\n",
       "      <td>NaN</td>\n",
       "      <td>NaN</td>\n",
       "      <td>NaN</td>\n",
       "      <td>NaN</td>\n",
       "      <td>0.204324</td>\n",
       "      <td>0.0</td>\n",
       "      <td>NaN</td>\n",
       "      <td>NaN</td>\n",
       "      <td>NaN</td>\n",
       "      <td>NaN</td>\n",
       "    </tr>\n",
       "    <tr>\n",
       "      <th>min</th>\n",
       "      <td>5.473400e+04</td>\n",
       "      <td>7.069900e+04</td>\n",
       "      <td>500.000000</td>\n",
       "      <td>500.000000</td>\n",
       "      <td>0.000000</td>\n",
       "      <td>5.420000</td>\n",
       "      <td>15.690000</td>\n",
       "      <td>4.000000e+03</td>\n",
       "      <td>0.000000</td>\n",
       "      <td>0.000000</td>\n",
       "      <td>...</td>\n",
       "      <td>NaN</td>\n",
       "      <td>NaN</td>\n",
       "      <td>NaN</td>\n",
       "      <td>NaN</td>\n",
       "      <td>0.000000</td>\n",
       "      <td>0.0</td>\n",
       "      <td>NaN</td>\n",
       "      <td>NaN</td>\n",
       "      <td>NaN</td>\n",
       "      <td>NaN</td>\n",
       "    </tr>\n",
       "    <tr>\n",
       "      <th>25%</th>\n",
       "      <td>5.162210e+05</td>\n",
       "      <td>6.667800e+05</td>\n",
       "      <td>5500.000000</td>\n",
       "      <td>5400.000000</td>\n",
       "      <td>5000.000000</td>\n",
       "      <td>9.250000</td>\n",
       "      <td>167.020000</td>\n",
       "      <td>4.040400e+04</td>\n",
       "      <td>8.170000</td>\n",
       "      <td>0.000000</td>\n",
       "      <td>...</td>\n",
       "      <td>NaN</td>\n",
       "      <td>NaN</td>\n",
       "      <td>NaN</td>\n",
       "      <td>NaN</td>\n",
       "      <td>0.000000</td>\n",
       "      <td>0.0</td>\n",
       "      <td>NaN</td>\n",
       "      <td>NaN</td>\n",
       "      <td>NaN</td>\n",
       "      <td>NaN</td>\n",
       "    </tr>\n",
       "    <tr>\n",
       "      <th>50%</th>\n",
       "      <td>6.656650e+05</td>\n",
       "      <td>8.508120e+05</td>\n",
       "      <td>10000.000000</td>\n",
       "      <td>9600.000000</td>\n",
       "      <td>8975.000000</td>\n",
       "      <td>11.860000</td>\n",
       "      <td>280.220000</td>\n",
       "      <td>5.900000e+04</td>\n",
       "      <td>13.400000</td>\n",
       "      <td>0.000000</td>\n",
       "      <td>...</td>\n",
       "      <td>NaN</td>\n",
       "      <td>NaN</td>\n",
       "      <td>NaN</td>\n",
       "      <td>NaN</td>\n",
       "      <td>0.000000</td>\n",
       "      <td>0.0</td>\n",
       "      <td>NaN</td>\n",
       "      <td>NaN</td>\n",
       "      <td>NaN</td>\n",
       "      <td>NaN</td>\n",
       "    </tr>\n",
       "    <tr>\n",
       "      <th>75%</th>\n",
       "      <td>8.377550e+05</td>\n",
       "      <td>1.047339e+06</td>\n",
       "      <td>15000.000000</td>\n",
       "      <td>15000.000000</td>\n",
       "      <td>14400.000000</td>\n",
       "      <td>14.590000</td>\n",
       "      <td>430.780000</td>\n",
       "      <td>8.230000e+04</td>\n",
       "      <td>18.600000</td>\n",
       "      <td>0.000000</td>\n",
       "      <td>...</td>\n",
       "      <td>NaN</td>\n",
       "      <td>NaN</td>\n",
       "      <td>NaN</td>\n",
       "      <td>NaN</td>\n",
       "      <td>0.000000</td>\n",
       "      <td>0.0</td>\n",
       "      <td>NaN</td>\n",
       "      <td>NaN</td>\n",
       "      <td>NaN</td>\n",
       "      <td>NaN</td>\n",
       "    </tr>\n",
       "    <tr>\n",
       "      <th>max</th>\n",
       "      <td>1.077501e+06</td>\n",
       "      <td>1.314167e+06</td>\n",
       "      <td>35000.000000</td>\n",
       "      <td>35000.000000</td>\n",
       "      <td>35000.000000</td>\n",
       "      <td>24.590000</td>\n",
       "      <td>1305.190000</td>\n",
       "      <td>6.000000e+06</td>\n",
       "      <td>29.990000</td>\n",
       "      <td>11.000000</td>\n",
       "      <td>...</td>\n",
       "      <td>NaN</td>\n",
       "      <td>NaN</td>\n",
       "      <td>NaN</td>\n",
       "      <td>NaN</td>\n",
       "      <td>2.000000</td>\n",
       "      <td>0.0</td>\n",
       "      <td>NaN</td>\n",
       "      <td>NaN</td>\n",
       "      <td>NaN</td>\n",
       "      <td>NaN</td>\n",
       "    </tr>\n",
       "  </tbody>\n",
       "</table>\n",
       "<p>8 rows × 88 columns</p>\n",
       "</div>"
      ],
      "text/plain": [
       "                 id     member_id     loan_amnt   funded_amnt  \\\n",
       "count  3.971700e+04  3.971700e+04  39717.000000  39717.000000   \n",
       "mean   6.831319e+05  8.504636e+05  11219.443815  10947.713196   \n",
       "std    2.106941e+05  2.656783e+05   7456.670694   7187.238670   \n",
       "min    5.473400e+04  7.069900e+04    500.000000    500.000000   \n",
       "25%    5.162210e+05  6.667800e+05   5500.000000   5400.000000   \n",
       "50%    6.656650e+05  8.508120e+05  10000.000000   9600.000000   \n",
       "75%    8.377550e+05  1.047339e+06  15000.000000  15000.000000   \n",
       "max    1.077501e+06  1.314167e+06  35000.000000  35000.000000   \n",
       "\n",
       "       funded_amnt_inv      int_rate   installment    annual_inc  \\\n",
       "count     39717.000000  39717.000000  39717.000000  3.971700e+04   \n",
       "mean      10397.448868     12.021177    324.561922  6.896893e+04   \n",
       "std        7128.450439      3.724825    208.874874  6.379377e+04   \n",
       "min           0.000000      5.420000     15.690000  4.000000e+03   \n",
       "25%        5000.000000      9.250000    167.020000  4.040400e+04   \n",
       "50%        8975.000000     11.860000    280.220000  5.900000e+04   \n",
       "75%       14400.000000     14.590000    430.780000  8.230000e+04   \n",
       "max       35000.000000     24.590000   1305.190000  6.000000e+06   \n",
       "\n",
       "                dti   delinq_2yrs  ...  num_tl_90g_dpd_24m  \\\n",
       "count  39717.000000  39717.000000  ...                 0.0   \n",
       "mean      13.315130      0.146512  ...                 NaN   \n",
       "std        6.678594      0.491812  ...                 NaN   \n",
       "min        0.000000      0.000000  ...                 NaN   \n",
       "25%        8.170000      0.000000  ...                 NaN   \n",
       "50%       13.400000      0.000000  ...                 NaN   \n",
       "75%       18.600000      0.000000  ...                 NaN   \n",
       "max       29.990000     11.000000  ...                 NaN   \n",
       "\n",
       "       num_tl_op_past_12m  pct_tl_nvr_dlq  percent_bc_gt_75  \\\n",
       "count                 0.0             0.0               0.0   \n",
       "mean                  NaN             NaN               NaN   \n",
       "std                   NaN             NaN               NaN   \n",
       "min                   NaN             NaN               NaN   \n",
       "25%                   NaN             NaN               NaN   \n",
       "50%                   NaN             NaN               NaN   \n",
       "75%                   NaN             NaN               NaN   \n",
       "max                   NaN             NaN               NaN   \n",
       "\n",
       "       pub_rec_bankruptcies  tax_liens  tot_hi_cred_lim  total_bal_ex_mort  \\\n",
       "count          39020.000000    39678.0              0.0                0.0   \n",
       "mean               0.043260        0.0              NaN                NaN   \n",
       "std                0.204324        0.0              NaN                NaN   \n",
       "min                0.000000        0.0              NaN                NaN   \n",
       "25%                0.000000        0.0              NaN                NaN   \n",
       "50%                0.000000        0.0              NaN                NaN   \n",
       "75%                0.000000        0.0              NaN                NaN   \n",
       "max                2.000000        0.0              NaN                NaN   \n",
       "\n",
       "       total_bc_limit  total_il_high_credit_limit  \n",
       "count             0.0                         0.0  \n",
       "mean              NaN                         NaN  \n",
       "std               NaN                         NaN  \n",
       "min               NaN                         NaN  \n",
       "25%               NaN                         NaN  \n",
       "50%               NaN                         NaN  \n",
       "75%               NaN                         NaN  \n",
       "max               NaN                         NaN  \n",
       "\n",
       "[8 rows x 88 columns]"
      ]
     },
     "execution_count": 5,
     "metadata": {},
     "output_type": "execute_result"
    }
   ],
   "source": [
    "#We see that there are lot of null values.\n",
    "\n",
    "loans.describe()"
   ]
  },
  {
   "cell_type": "code",
   "execution_count": 6,
   "id": "4291d794",
   "metadata": {
    "scrolled": true
   },
   "outputs": [
    {
     "name": "stdout",
     "output_type": "stream",
     "text": [
      "<class 'pandas.core.frame.DataFrame'>\n",
      "RangeIndex: 39717 entries, 0 to 39716\n",
      "Columns: 111 entries, id to total_il_high_credit_limit\n",
      "dtypes: float64(75), int64(13), object(23)\n",
      "memory usage: 33.6+ MB\n"
     ]
    }
   ],
   "source": [
    "#Getting concise summary of the dataframe\n",
    "loans.info()"
   ]
  },
  {
   "cell_type": "raw",
   "id": "7d803e3f",
   "metadata": {},
   "source": [
    "DATA CLEANING"
   ]
  },
  {
   "cell_type": "code",
   "execution_count": 7,
   "id": "d21f58f3",
   "metadata": {
    "scrolled": true
   },
   "outputs": [
    {
     "data": {
      "text/plain": [
       "emp_title                           6.19\n",
       "emp_length                          2.71\n",
       "desc                               32.58\n",
       "title                               0.03\n",
       "mths_since_last_delinq             64.66\n",
       "mths_since_last_record             92.99\n",
       "revol_util                          0.13\n",
       "last_pymnt_d                        0.18\n",
       "next_pymnt_d                       97.13\n",
       "last_credit_pull_d                  0.01\n",
       "collections_12_mths_ex_med          0.14\n",
       "mths_since_last_major_derog       100.00\n",
       "annual_inc_joint                  100.00\n",
       "dti_joint                         100.00\n",
       "verification_status_joint         100.00\n",
       "tot_coll_amt                      100.00\n",
       "tot_cur_bal                       100.00\n",
       "open_acc_6m                       100.00\n",
       "open_il_6m                        100.00\n",
       "open_il_12m                       100.00\n",
       "open_il_24m                       100.00\n",
       "mths_since_rcnt_il                100.00\n",
       "total_bal_il                      100.00\n",
       "il_util                           100.00\n",
       "open_rv_12m                       100.00\n",
       "open_rv_24m                       100.00\n",
       "max_bal_bc                        100.00\n",
       "all_util                          100.00\n",
       "total_rev_hi_lim                  100.00\n",
       "inq_fi                            100.00\n",
       "total_cu_tl                       100.00\n",
       "inq_last_12m                      100.00\n",
       "acc_open_past_24mths              100.00\n",
       "avg_cur_bal                       100.00\n",
       "bc_open_to_buy                    100.00\n",
       "bc_util                           100.00\n",
       "chargeoff_within_12_mths            0.14\n",
       "mo_sin_old_il_acct                100.00\n",
       "mo_sin_old_rev_tl_op              100.00\n",
       "mo_sin_rcnt_rev_tl_op             100.00\n",
       "mo_sin_rcnt_tl                    100.00\n",
       "mort_acc                          100.00\n",
       "mths_since_recent_bc              100.00\n",
       "mths_since_recent_bc_dlq          100.00\n",
       "mths_since_recent_inq             100.00\n",
       "mths_since_recent_revol_delinq    100.00\n",
       "num_accts_ever_120_pd             100.00\n",
       "num_actv_bc_tl                    100.00\n",
       "num_actv_rev_tl                   100.00\n",
       "num_bc_sats                       100.00\n",
       "num_bc_tl                         100.00\n",
       "num_il_tl                         100.00\n",
       "num_op_rev_tl                     100.00\n",
       "num_rev_accts                     100.00\n",
       "num_rev_tl_bal_gt_0               100.00\n",
       "num_sats                          100.00\n",
       "num_tl_120dpd_2m                  100.00\n",
       "num_tl_30dpd                      100.00\n",
       "num_tl_90g_dpd_24m                100.00\n",
       "num_tl_op_past_12m                100.00\n",
       "pct_tl_nvr_dlq                    100.00\n",
       "percent_bc_gt_75                  100.00\n",
       "pub_rec_bankruptcies                1.75\n",
       "tax_liens                           0.10\n",
       "tot_hi_cred_lim                   100.00\n",
       "total_bal_ex_mort                 100.00\n",
       "total_bc_limit                    100.00\n",
       "total_il_high_credit_limit        100.00\n",
       "dtype: float64"
      ]
     },
     "execution_count": 7,
     "metadata": {},
     "output_type": "execute_result"
    }
   ],
   "source": [
    "\n",
    "#Getting the percentage of null values in each column\n",
    "#Drop columns with lot of null values as it won't be helpful in our analysis\n",
    "\n",
    "null_values = round(100*(loans.isnull().sum()/len(loans.id)), 2)\n",
    "null_values.loc[null_values > 0]"
   ]
  },
  {
   "cell_type": "markdown",
   "id": "530fdb78",
   "metadata": {},
   "source": [
    "<p> From the above executed statement we see that we have as many as 68 columns with more than 0% null values</p>"
   ]
  },
  {
   "cell_type": "markdown",
   "id": "30b119ee",
   "metadata": {},
   "source": [
    "<p>We will therefore remove not all, but some of the columns with null values</p>"
   ]
  },
  {
   "cell_type": "code",
   "execution_count": null,
   "id": "8f110fd5",
   "metadata": {},
   "outputs": [],
   "source": []
  },
  {
   "cell_type": "code",
   "execution_count": 8,
   "id": "bad3d92c",
   "metadata": {
    "scrolled": true
   },
   "outputs": [
    {
     "name": "stdout",
     "output_type": "stream",
     "text": [
      "(39717, 53)\n"
     ]
    }
   ],
   "source": [
    "#Removing unnecessary column for analysis\n",
    "null_values_cols = list(null_values[null_values >= 30].index)\n",
    "loans = loans.drop(null_values_cols,axis=1)\n",
    "print(loans.shape)"
   ]
  },
  {
   "cell_type": "markdown",
   "id": "141c98f4",
   "metadata": {},
   "source": [
    "<p>As the next step we proposed removing all the columns having more than 30% null values</p>\n",
    "\n",
    "<p>This led to 58 columns being dropped. The number of usable columns therefore came down to 53.</p>"
   ]
  },
  {
   "cell_type": "code",
   "execution_count": 9,
   "id": "94586a81",
   "metadata": {
    "scrolled": true
   },
   "outputs": [
    {
     "data": {
      "text/plain": [
       "emp_title                     6.19\n",
       "emp_length                    2.71\n",
       "title                         0.03\n",
       "revol_util                    0.13\n",
       "last_pymnt_d                  0.18\n",
       "last_credit_pull_d            0.01\n",
       "collections_12_mths_ex_med    0.14\n",
       "chargeoff_within_12_mths      0.14\n",
       "pub_rec_bankruptcies          1.75\n",
       "tax_liens                     0.10\n",
       "dtype: float64"
      ]
     },
     "execution_count": 9,
     "metadata": {},
     "output_type": "execute_result"
    }
   ],
   "source": [
    "missing_remaining = round(100*(loans.isnull().sum()/len(loans.id)), 2)\n",
    "missing_remaining[missing_remaining != 0]\n",
    "#We have narrowed the columns in which data is missing to 10."
   ]
  },
  {
   "cell_type": "markdown",
   "id": "d09e2124",
   "metadata": {},
   "source": [
    "<p>Employee title and employee length may be crucial to our analysis. However, these columns include 6.19% <b>and 2.71% null values respectively which might distort our analysis.</b> So we propose to drop the rows where either employee title is null or employee length is null.</p>"
   ]
  },
  {
   "cell_type": "code",
   "execution_count": 10,
   "id": "b52f12ef",
   "metadata": {
    "scrolled": true
   },
   "outputs": [
    {
     "data": {
      "text/plain": [
       "(37202, 53)"
      ]
     },
     "execution_count": 10,
     "metadata": {},
     "output_type": "execute_result"
    }
   ],
   "source": [
    "loans = loans[~loans.emp_title.isnull()]\n",
    "loans = loans[~loans.emp_length.isnull()]\n",
    "loans.shape"
   ]
  },
  {
   "cell_type": "code",
   "execution_count": 11,
   "id": "de9b8ed7",
   "metadata": {
    "scrolled": true
   },
   "outputs": [
    {
     "data": {
      "text/plain": [
       "(37202, 34)"
      ]
     },
     "execution_count": 11,
     "metadata": {},
     "output_type": "execute_result"
    }
   ],
   "source": [
    "loans = loans.drop(['delinq_2yrs','earliest_cr_line','inq_last_6mths','open_acc,pub_rec','revol_bal','revol_util','total_acc','out_prncp','out_prncp_inv','total_pymnt','total_pymnt_inv','total_rec_prncp','total_rec_int','total_rec_late_fee','recoveries','collection_recovery_fee','last_pymnt_d','last_pymnt_amnt','last_credit_pull_d','application_type'], axis=1, errors='ignore')\n",
    "loans.shape"
   ]
  },
  {
   "cell_type": "code",
   "execution_count": 12,
   "id": "bdd6cc57",
   "metadata": {
    "scrolled": true
   },
   "outputs": [
    {
     "data": {
      "text/plain": [
       "title                         0.02\n",
       "collections_12_mths_ex_med    0.13\n",
       "chargeoff_within_12_mths      0.13\n",
       "pub_rec_bankruptcies          1.76\n",
       "tax_liens                     0.09\n",
       "dtype: float64"
      ]
     },
     "execution_count": 12,
     "metadata": {},
     "output_type": "execute_result"
    }
   ],
   "source": [
    "missing_remaining1 = round(100*(loans.isnull().sum()/len(loans.id)), 2)\n",
    "missing_remaining1[missing_remaining1 != 0]"
   ]
  },
  {
   "cell_type": "markdown",
   "id": "18b0f29a",
   "metadata": {},
   "source": [
    "<p>For the above columns let us analyze the type of variable</p>"
   ]
  },
  {
   "cell_type": "code",
   "execution_count": 13,
   "id": "f92dff16",
   "metadata": {
    "scrolled": true
   },
   "outputs": [
    {
     "name": "stdout",
     "output_type": "stream",
     "text": [
      "Collections_12_mths_ex_med: [ 0. nan]\n",
      "0.0    37155 \n",
      "\n",
      "Chargeoff_within_12_mths: [ 0. nan]\n",
      "0.0    37155 \n",
      "\n",
      "Pub_rec_bankruptcies: [ 0.  1.  2. nan]\n",
      "0.0    35039\n",
      "1.0     1502\n",
      "2.0        7 \n",
      "\n",
      "Tax_liens: [ 0. nan]\n",
      "0.0    37170 \n",
      "\n"
     ]
    }
   ],
   "source": [
    "#Printing the number of the unique values along with count for each of the above column\n",
    "\n",
    "print(\"Collections_12_mths_ex_med:\",loans.collections_12_mths_ex_med.unique())\n",
    "print(loans.collections_12_mths_ex_med.value_counts().to_string(),\"\\n\")\n",
    "\n",
    "print(\"Chargeoff_within_12_mths:\",loans.chargeoff_within_12_mths.unique())\n",
    "print(loans.chargeoff_within_12_mths.value_counts().to_string(),\"\\n\")\n",
    "\n",
    "print(\"Pub_rec_bankruptcies:\",loans.pub_rec_bankruptcies.unique())\n",
    "print(loans.pub_rec_bankruptcies.value_counts().to_string(),\"\\n\")\n",
    "\n",
    "print(\"Tax_liens:\",loans.tax_liens.unique())\n",
    "print(loans.tax_liens.value_counts().to_string(),\"\\n\")"
   ]
  },
  {
   "cell_type": "markdown",
   "id": "30ba0f80",
   "metadata": {},
   "source": [
    "<p>These are all categorical variables.</p>"
   ]
  },
  {
   "cell_type": "markdown",
   "id": "efd95046",
   "metadata": {},
   "source": [
    "<p>Now since the values in column Collections_12_mths_ex_med, Chargeoff_within_12_mths, Tax_liens is 0 or NaN. Hence we propose to drop all such columns without impacting our analysis.</p>"
   ]
  },
  {
   "cell_type": "markdown",
   "id": "3435cdd6",
   "metadata": {},
   "source": [
    "<p>For variable Pub_rec_bankruptcies we propose to replace the null values by the central tendency, that is, Mode. Because in  this case, Mode is the clear representation of the variable. Hence we replace the null values by 0.</p>"
   ]
  },
  {
   "cell_type": "code",
   "execution_count": 14,
   "id": "631d53c9",
   "metadata": {
    "scrolled": true
   },
   "outputs": [
    {
     "name": "stdout",
     "output_type": "stream",
     "text": [
      "Pub_rec_bankruptcies: [0. 1. 2.]\n",
      "0.0    35693\n",
      "1.0     1502\n",
      "2.0        7 \n",
      "\n"
     ]
    },
    {
     "data": {
      "text/plain": [
       "(37202, 31)"
      ]
     },
     "execution_count": 14,
     "metadata": {},
     "output_type": "execute_result"
    }
   ],
   "source": [
    "loans = loans.drop(['collections_12_mths_ex_med','chargeoff_within_12_mths','tax_liens'], axis=1)\n",
    "loans.pub_rec_bankruptcies.fillna(loans.pub_rec_bankruptcies.mode()[0], inplace=True)\n",
    "print(\"Pub_rec_bankruptcies:\",loans.pub_rec_bankruptcies.unique())\n",
    "print(loans.pub_rec_bankruptcies.value_counts().to_string(),\"\\n\")\n",
    "loans.shape"
   ]
  },
  {
   "cell_type": "code",
   "execution_count": 15,
   "id": "af76983e",
   "metadata": {
    "scrolled": true
   },
   "outputs": [
    {
     "data": {
      "text/plain": [
       "1        11\n",
       "3        11\n",
       "4        11\n",
       "5        11\n",
       "6        11\n",
       "         ..\n",
       "39710     7\n",
       "39711     7\n",
       "39712     7\n",
       "39713     7\n",
       "39716     7\n",
       "Name: issued, Length: 37202, dtype: int32"
      ]
     },
     "execution_count": 15,
     "metadata": {},
     "output_type": "execute_result"
    }
   ],
   "source": [
    "loans['term']=loans['term'].astype(str).str.strip('').str[0:3]\n",
    "loans['term'].head()\n",
    "loans['term']=loans['term'].astype(int)\n",
    "loans['issued']=loans['issue_d'].str.split('-').str[1]\n",
    "loans['issued'].astype(int)"
   ]
  },
  {
   "cell_type": "code",
   "execution_count": 16,
   "id": "de5b066e",
   "metadata": {
    "scrolled": true
   },
   "outputs": [
    {
     "data": {
      "text/plain": [
       "(36136, 32)"
      ]
     },
     "execution_count": 16,
     "metadata": {},
     "output_type": "execute_result"
    }
   ],
   "source": [
    "loans = loans.loc[loans['loan_status'] != \"Current\"]\n",
    "loans.shape"
   ]
  },
  {
   "cell_type": "code",
   "execution_count": 17,
   "id": "99b99f2c",
   "metadata": {
    "scrolled": true
   },
   "outputs": [
    {
     "data": {
      "text/html": [
       "<div>\n",
       "<style scoped>\n",
       "    .dataframe tbody tr th:only-of-type {\n",
       "        vertical-align: middle;\n",
       "    }\n",
       "\n",
       "    .dataframe tbody tr th {\n",
       "        vertical-align: top;\n",
       "    }\n",
       "\n",
       "    .dataframe thead th {\n",
       "        text-align: right;\n",
       "    }\n",
       "</style>\n",
       "<table border=\"1\" class=\"dataframe\">\n",
       "  <thead>\n",
       "    <tr style=\"text-align: right;\">\n",
       "      <th></th>\n",
       "      <th>id</th>\n",
       "      <th>member_id</th>\n",
       "      <th>loan_amnt</th>\n",
       "      <th>funded_amnt</th>\n",
       "      <th>funded_amnt_inv</th>\n",
       "      <th>term</th>\n",
       "      <th>int_rate</th>\n",
       "      <th>installment</th>\n",
       "      <th>annual_inc</th>\n",
       "      <th>dti</th>\n",
       "      <th>open_acc</th>\n",
       "      <th>pub_rec</th>\n",
       "      <th>policy_code</th>\n",
       "      <th>acc_now_delinq</th>\n",
       "      <th>delinq_amnt</th>\n",
       "      <th>pub_rec_bankruptcies</th>\n",
       "    </tr>\n",
       "  </thead>\n",
       "  <tbody>\n",
       "    <tr>\n",
       "      <th>id</th>\n",
       "      <td>1.000000</td>\n",
       "      <td>0.993500</td>\n",
       "      <td>0.123246</td>\n",
       "      <td>0.134316</td>\n",
       "      <td>0.236651</td>\n",
       "      <td>0.179689</td>\n",
       "      <td>0.057957</td>\n",
       "      <td>0.078341</td>\n",
       "      <td>0.007793</td>\n",
       "      <td>0.090075</td>\n",
       "      <td>0.018296</td>\n",
       "      <td>-0.020243</td>\n",
       "      <td>NaN</td>\n",
       "      <td>NaN</td>\n",
       "      <td>NaN</td>\n",
       "      <td>-0.000923</td>\n",
       "    </tr>\n",
       "    <tr>\n",
       "      <th>member_id</th>\n",
       "      <td>0.993500</td>\n",
       "      <td>1.000000</td>\n",
       "      <td>0.123398</td>\n",
       "      <td>0.133711</td>\n",
       "      <td>0.246925</td>\n",
       "      <td>0.198558</td>\n",
       "      <td>0.054959</td>\n",
       "      <td>0.073397</td>\n",
       "      <td>0.008984</td>\n",
       "      <td>0.091414</td>\n",
       "      <td>0.015829</td>\n",
       "      <td>-0.020067</td>\n",
       "      <td>NaN</td>\n",
       "      <td>NaN</td>\n",
       "      <td>NaN</td>\n",
       "      <td>-0.000105</td>\n",
       "    </tr>\n",
       "    <tr>\n",
       "      <th>loan_amnt</th>\n",
       "      <td>0.123246</td>\n",
       "      <td>0.123398</td>\n",
       "      <td>1.000000</td>\n",
       "      <td>0.981602</td>\n",
       "      <td>0.936210</td>\n",
       "      <td>0.348215</td>\n",
       "      <td>0.298697</td>\n",
       "      <td>0.931293</td>\n",
       "      <td>0.255517</td>\n",
       "      <td>0.063912</td>\n",
       "      <td>0.174405</td>\n",
       "      <td>-0.046677</td>\n",
       "      <td>NaN</td>\n",
       "      <td>NaN</td>\n",
       "      <td>NaN</td>\n",
       "      <td>-0.029968</td>\n",
       "    </tr>\n",
       "    <tr>\n",
       "      <th>funded_amnt</th>\n",
       "      <td>0.134316</td>\n",
       "      <td>0.133711</td>\n",
       "      <td>0.981602</td>\n",
       "      <td>1.000000</td>\n",
       "      <td>0.954652</td>\n",
       "      <td>0.326833</td>\n",
       "      <td>0.303065</td>\n",
       "      <td>0.957230</td>\n",
       "      <td>0.251024</td>\n",
       "      <td>0.063947</td>\n",
       "      <td>0.172857</td>\n",
       "      <td>-0.047395</td>\n",
       "      <td>NaN</td>\n",
       "      <td>NaN</td>\n",
       "      <td>NaN</td>\n",
       "      <td>-0.031234</td>\n",
       "    </tr>\n",
       "    <tr>\n",
       "      <th>funded_amnt_inv</th>\n",
       "      <td>0.236651</td>\n",
       "      <td>0.246925</td>\n",
       "      <td>0.936210</td>\n",
       "      <td>0.954652</td>\n",
       "      <td>1.000000</td>\n",
       "      <td>0.346952</td>\n",
       "      <td>0.295665</td>\n",
       "      <td>0.902552</td>\n",
       "      <td>0.238454</td>\n",
       "      <td>0.072976</td>\n",
       "      <td>0.159972</td>\n",
       "      <td>-0.049260</td>\n",
       "      <td>NaN</td>\n",
       "      <td>NaN</td>\n",
       "      <td>NaN</td>\n",
       "      <td>-0.032388</td>\n",
       "    </tr>\n",
       "    <tr>\n",
       "      <th>term</th>\n",
       "      <td>0.179689</td>\n",
       "      <td>0.198558</td>\n",
       "      <td>0.348215</td>\n",
       "      <td>0.326833</td>\n",
       "      <td>0.346952</td>\n",
       "      <td>1.000000</td>\n",
       "      <td>0.441600</td>\n",
       "      <td>0.089815</td>\n",
       "      <td>0.044973</td>\n",
       "      <td>0.077074</td>\n",
       "      <td>0.044185</td>\n",
       "      <td>0.012515</td>\n",
       "      <td>NaN</td>\n",
       "      <td>NaN</td>\n",
       "      <td>NaN</td>\n",
       "      <td>0.020799</td>\n",
       "    </tr>\n",
       "    <tr>\n",
       "      <th>int_rate</th>\n",
       "      <td>0.057957</td>\n",
       "      <td>0.054959</td>\n",
       "      <td>0.298697</td>\n",
       "      <td>0.303065</td>\n",
       "      <td>0.295665</td>\n",
       "      <td>0.441600</td>\n",
       "      <td>1.000000</td>\n",
       "      <td>0.274524</td>\n",
       "      <td>0.045486</td>\n",
       "      <td>0.114364</td>\n",
       "      <td>0.007798</td>\n",
       "      <td>0.099717</td>\n",
       "      <td>NaN</td>\n",
       "      <td>NaN</td>\n",
       "      <td>NaN</td>\n",
       "      <td>0.084701</td>\n",
       "    </tr>\n",
       "    <tr>\n",
       "      <th>installment</th>\n",
       "      <td>0.078341</td>\n",
       "      <td>0.073397</td>\n",
       "      <td>0.931293</td>\n",
       "      <td>0.957230</td>\n",
       "      <td>0.902552</td>\n",
       "      <td>0.089815</td>\n",
       "      <td>0.274524</td>\n",
       "      <td>1.000000</td>\n",
       "      <td>0.252474</td>\n",
       "      <td>0.054221</td>\n",
       "      <td>0.170913</td>\n",
       "      <td>-0.042851</td>\n",
       "      <td>NaN</td>\n",
       "      <td>NaN</td>\n",
       "      <td>NaN</td>\n",
       "      <td>-0.028655</td>\n",
       "    </tr>\n",
       "    <tr>\n",
       "      <th>annual_inc</th>\n",
       "      <td>0.007793</td>\n",
       "      <td>0.008984</td>\n",
       "      <td>0.255517</td>\n",
       "      <td>0.251024</td>\n",
       "      <td>0.238454</td>\n",
       "      <td>0.044973</td>\n",
       "      <td>0.045486</td>\n",
       "      <td>0.252474</td>\n",
       "      <td>1.000000</td>\n",
       "      <td>-0.120770</td>\n",
       "      <td>0.153472</td>\n",
       "      <td>-0.013777</td>\n",
       "      <td>NaN</td>\n",
       "      <td>NaN</td>\n",
       "      <td>NaN</td>\n",
       "      <td>-0.010699</td>\n",
       "    </tr>\n",
       "    <tr>\n",
       "      <th>dti</th>\n",
       "      <td>0.090075</td>\n",
       "      <td>0.091414</td>\n",
       "      <td>0.063912</td>\n",
       "      <td>0.063947</td>\n",
       "      <td>0.072976</td>\n",
       "      <td>0.077074</td>\n",
       "      <td>0.114364</td>\n",
       "      <td>0.054221</td>\n",
       "      <td>-0.120770</td>\n",
       "      <td>1.000000</td>\n",
       "      <td>0.289386</td>\n",
       "      <td>-0.005413</td>\n",
       "      <td>NaN</td>\n",
       "      <td>NaN</td>\n",
       "      <td>NaN</td>\n",
       "      <td>0.007914</td>\n",
       "    </tr>\n",
       "    <tr>\n",
       "      <th>open_acc</th>\n",
       "      <td>0.018296</td>\n",
       "      <td>0.015829</td>\n",
       "      <td>0.174405</td>\n",
       "      <td>0.172857</td>\n",
       "      <td>0.159972</td>\n",
       "      <td>0.044185</td>\n",
       "      <td>0.007798</td>\n",
       "      <td>0.170913</td>\n",
       "      <td>0.153472</td>\n",
       "      <td>0.289386</td>\n",
       "      <td>1.000000</td>\n",
       "      <td>0.002800</td>\n",
       "      <td>NaN</td>\n",
       "      <td>NaN</td>\n",
       "      <td>NaN</td>\n",
       "      <td>0.009682</td>\n",
       "    </tr>\n",
       "    <tr>\n",
       "      <th>pub_rec</th>\n",
       "      <td>-0.020243</td>\n",
       "      <td>-0.020067</td>\n",
       "      <td>-0.046677</td>\n",
       "      <td>-0.047395</td>\n",
       "      <td>-0.049260</td>\n",
       "      <td>0.012515</td>\n",
       "      <td>0.099717</td>\n",
       "      <td>-0.042851</td>\n",
       "      <td>-0.013777</td>\n",
       "      <td>-0.005413</td>\n",
       "      <td>0.002800</td>\n",
       "      <td>1.000000</td>\n",
       "      <td>NaN</td>\n",
       "      <td>NaN</td>\n",
       "      <td>NaN</td>\n",
       "      <td>0.835193</td>\n",
       "    </tr>\n",
       "    <tr>\n",
       "      <th>policy_code</th>\n",
       "      <td>NaN</td>\n",
       "      <td>NaN</td>\n",
       "      <td>NaN</td>\n",
       "      <td>NaN</td>\n",
       "      <td>NaN</td>\n",
       "      <td>NaN</td>\n",
       "      <td>NaN</td>\n",
       "      <td>NaN</td>\n",
       "      <td>NaN</td>\n",
       "      <td>NaN</td>\n",
       "      <td>NaN</td>\n",
       "      <td>NaN</td>\n",
       "      <td>NaN</td>\n",
       "      <td>NaN</td>\n",
       "      <td>NaN</td>\n",
       "      <td>NaN</td>\n",
       "    </tr>\n",
       "    <tr>\n",
       "      <th>acc_now_delinq</th>\n",
       "      <td>NaN</td>\n",
       "      <td>NaN</td>\n",
       "      <td>NaN</td>\n",
       "      <td>NaN</td>\n",
       "      <td>NaN</td>\n",
       "      <td>NaN</td>\n",
       "      <td>NaN</td>\n",
       "      <td>NaN</td>\n",
       "      <td>NaN</td>\n",
       "      <td>NaN</td>\n",
       "      <td>NaN</td>\n",
       "      <td>NaN</td>\n",
       "      <td>NaN</td>\n",
       "      <td>NaN</td>\n",
       "      <td>NaN</td>\n",
       "      <td>NaN</td>\n",
       "    </tr>\n",
       "    <tr>\n",
       "      <th>delinq_amnt</th>\n",
       "      <td>NaN</td>\n",
       "      <td>NaN</td>\n",
       "      <td>NaN</td>\n",
       "      <td>NaN</td>\n",
       "      <td>NaN</td>\n",
       "      <td>NaN</td>\n",
       "      <td>NaN</td>\n",
       "      <td>NaN</td>\n",
       "      <td>NaN</td>\n",
       "      <td>NaN</td>\n",
       "      <td>NaN</td>\n",
       "      <td>NaN</td>\n",
       "      <td>NaN</td>\n",
       "      <td>NaN</td>\n",
       "      <td>NaN</td>\n",
       "      <td>NaN</td>\n",
       "    </tr>\n",
       "    <tr>\n",
       "      <th>pub_rec_bankruptcies</th>\n",
       "      <td>-0.000923</td>\n",
       "      <td>-0.000105</td>\n",
       "      <td>-0.029968</td>\n",
       "      <td>-0.031234</td>\n",
       "      <td>-0.032388</td>\n",
       "      <td>0.020799</td>\n",
       "      <td>0.084701</td>\n",
       "      <td>-0.028655</td>\n",
       "      <td>-0.010699</td>\n",
       "      <td>0.007914</td>\n",
       "      <td>0.009682</td>\n",
       "      <td>0.835193</td>\n",
       "      <td>NaN</td>\n",
       "      <td>NaN</td>\n",
       "      <td>NaN</td>\n",
       "      <td>1.000000</td>\n",
       "    </tr>\n",
       "  </tbody>\n",
       "</table>\n",
       "</div>"
      ],
      "text/plain": [
       "                            id  member_id  loan_amnt  funded_amnt  \\\n",
       "id                    1.000000   0.993500   0.123246     0.134316   \n",
       "member_id             0.993500   1.000000   0.123398     0.133711   \n",
       "loan_amnt             0.123246   0.123398   1.000000     0.981602   \n",
       "funded_amnt           0.134316   0.133711   0.981602     1.000000   \n",
       "funded_amnt_inv       0.236651   0.246925   0.936210     0.954652   \n",
       "term                  0.179689   0.198558   0.348215     0.326833   \n",
       "int_rate              0.057957   0.054959   0.298697     0.303065   \n",
       "installment           0.078341   0.073397   0.931293     0.957230   \n",
       "annual_inc            0.007793   0.008984   0.255517     0.251024   \n",
       "dti                   0.090075   0.091414   0.063912     0.063947   \n",
       "open_acc              0.018296   0.015829   0.174405     0.172857   \n",
       "pub_rec              -0.020243  -0.020067  -0.046677    -0.047395   \n",
       "policy_code                NaN        NaN        NaN          NaN   \n",
       "acc_now_delinq             NaN        NaN        NaN          NaN   \n",
       "delinq_amnt                NaN        NaN        NaN          NaN   \n",
       "pub_rec_bankruptcies -0.000923  -0.000105  -0.029968    -0.031234   \n",
       "\n",
       "                      funded_amnt_inv      term  int_rate  installment  \\\n",
       "id                           0.236651  0.179689  0.057957     0.078341   \n",
       "member_id                    0.246925  0.198558  0.054959     0.073397   \n",
       "loan_amnt                    0.936210  0.348215  0.298697     0.931293   \n",
       "funded_amnt                  0.954652  0.326833  0.303065     0.957230   \n",
       "funded_amnt_inv              1.000000  0.346952  0.295665     0.902552   \n",
       "term                         0.346952  1.000000  0.441600     0.089815   \n",
       "int_rate                     0.295665  0.441600  1.000000     0.274524   \n",
       "installment                  0.902552  0.089815  0.274524     1.000000   \n",
       "annual_inc                   0.238454  0.044973  0.045486     0.252474   \n",
       "dti                          0.072976  0.077074  0.114364     0.054221   \n",
       "open_acc                     0.159972  0.044185  0.007798     0.170913   \n",
       "pub_rec                     -0.049260  0.012515  0.099717    -0.042851   \n",
       "policy_code                       NaN       NaN       NaN          NaN   \n",
       "acc_now_delinq                    NaN       NaN       NaN          NaN   \n",
       "delinq_amnt                       NaN       NaN       NaN          NaN   \n",
       "pub_rec_bankruptcies        -0.032388  0.020799  0.084701    -0.028655   \n",
       "\n",
       "                      annual_inc       dti  open_acc   pub_rec  policy_code  \\\n",
       "id                      0.007793  0.090075  0.018296 -0.020243          NaN   \n",
       "member_id               0.008984  0.091414  0.015829 -0.020067          NaN   \n",
       "loan_amnt               0.255517  0.063912  0.174405 -0.046677          NaN   \n",
       "funded_amnt             0.251024  0.063947  0.172857 -0.047395          NaN   \n",
       "funded_amnt_inv         0.238454  0.072976  0.159972 -0.049260          NaN   \n",
       "term                    0.044973  0.077074  0.044185  0.012515          NaN   \n",
       "int_rate                0.045486  0.114364  0.007798  0.099717          NaN   \n",
       "installment             0.252474  0.054221  0.170913 -0.042851          NaN   \n",
       "annual_inc              1.000000 -0.120770  0.153472 -0.013777          NaN   \n",
       "dti                    -0.120770  1.000000  0.289386 -0.005413          NaN   \n",
       "open_acc                0.153472  0.289386  1.000000  0.002800          NaN   \n",
       "pub_rec                -0.013777 -0.005413  0.002800  1.000000          NaN   \n",
       "policy_code                  NaN       NaN       NaN       NaN          NaN   \n",
       "acc_now_delinq               NaN       NaN       NaN       NaN          NaN   \n",
       "delinq_amnt                  NaN       NaN       NaN       NaN          NaN   \n",
       "pub_rec_bankruptcies   -0.010699  0.007914  0.009682  0.835193          NaN   \n",
       "\n",
       "                      acc_now_delinq  delinq_amnt  pub_rec_bankruptcies  \n",
       "id                               NaN          NaN             -0.000923  \n",
       "member_id                        NaN          NaN             -0.000105  \n",
       "loan_amnt                        NaN          NaN             -0.029968  \n",
       "funded_amnt                      NaN          NaN             -0.031234  \n",
       "funded_amnt_inv                  NaN          NaN             -0.032388  \n",
       "term                             NaN          NaN              0.020799  \n",
       "int_rate                         NaN          NaN              0.084701  \n",
       "installment                      NaN          NaN             -0.028655  \n",
       "annual_inc                       NaN          NaN             -0.010699  \n",
       "dti                              NaN          NaN              0.007914  \n",
       "open_acc                         NaN          NaN              0.009682  \n",
       "pub_rec                          NaN          NaN              0.835193  \n",
       "policy_code                      NaN          NaN                   NaN  \n",
       "acc_now_delinq                   NaN          NaN                   NaN  \n",
       "delinq_amnt                      NaN          NaN                   NaN  \n",
       "pub_rec_bankruptcies             NaN          NaN              1.000000  "
      ]
     },
     "execution_count": 17,
     "metadata": {},
     "output_type": "execute_result"
    }
   ],
   "source": [
    "#Finding the correlation between the different columns of the dataset\n",
    "#Using the corr function in pandas\n",
    "loans.corr()"
   ]
  },
  {
   "cell_type": "code",
   "execution_count": 18,
   "id": "350a38ee",
   "metadata": {
    "scrolled": true
   },
   "outputs": [
    {
     "data": {
      "image/png": "[encoded data removed]",
      "text/plain": [
       "<Figure size 1080x720 with 2 Axes>"
      ]
     },
     "metadata": {
      "needs_background": "light"
     },
     "output_type": "display_data"
    }
   ],
   "source": [
    "plt.figure(figsize=(15,10))\n",
    "ax = sns.heatmap(loans[['annual_inc','funded_amnt_inv','int_rate','installment']].corr(), cmap=\"YlGnBu\", annot = True)\n",
    "bottom, top = ax.get_ylim()\n",
    "ax.set_ylim(bottom + 0.5, top - 0.5)\n",
    "plt.show()"
   ]
  },
  {
   "cell_type": "code",
   "execution_count": 19,
   "id": "8adb4f4c",
   "metadata": {
    "scrolled": true
   },
   "outputs": [
    {
     "data": {
      "text/plain": [
       "count    36136.000000\n",
       "mean        11.968718\n",
       "std          3.684652\n",
       "min          5.420000\n",
       "25%          9.010000\n",
       "50%         11.830000\n",
       "75%         14.420000\n",
       "max         24.400000\n",
       "Name: int_rate, dtype: float64"
      ]
     },
     "execution_count": 19,
     "metadata": {},
     "output_type": "execute_result"
    }
   ],
   "source": [
    "loans['int_rate'].describe()"
   ]
  },
  {
   "cell_type": "code",
   "execution_count": 20,
   "id": "9410ac20",
   "metadata": {
    "scrolled": true
   },
   "outputs": [
    {
     "data": {
      "text/plain": [
       "(36136, 32)"
      ]
     },
     "execution_count": 20,
     "metadata": {},
     "output_type": "execute_result"
    },
    {
     "data": {
      "image/png": "[encoded data removed]",
      "text/plain": [
       "<Figure size 720x1440 with 1 Axes>"
      ]
     },
     "metadata": {
      "needs_background": "light"
     },
     "output_type": "display_data"
    }
   ],
   "source": [
    "#We are plotting the purpose against the default rate\n",
    "freq_rnkcnt_rate=(loans[loans['loan_status']!=\"Current\"].groupby(['purpose','loan_status']).loan_status.count()/loans[loans['loan_status']!=\"Current\"].groupby(['purpose']).loan_status.count())*100\n",
    "freq_rnkcnt_rate=pd.DataFrame(freq_rnkcnt_rate)\n",
    "freq_rnkcnt_rate.dropna(inplace=True,axis=0)\n",
    "\n",
    "freq_rnkcnt_rate.rename(columns={\"loan_status\":\"Default Rate\"},inplace=True)\n",
    "freq_rnkcnt_rate=pd.DataFrame(freq_rnkcnt_rate.to_records())\n",
    "freq_rnkcnt_rate.sort_values(by=\"Default Rate\",inplace=True,ascending=False)\n",
    "plt.figure(figsize=(10,20))\n",
    "sns.barplot(x=\"Default Rate\",y=\"purpose\",data=freq_rnkcnt_rate,hue=\"loan_status\")\n",
    "loans.shape"
   ]
  },
  {
   "cell_type": "code",
   "execution_count": 22,
   "id": "bc506cca",
   "metadata": {
    "scrolled": true
   },
   "outputs": [],
   "source": [
    "#In the below graph let us plot purpose against default rate\n",
    "freq_rnkcnt=loans[loans['loan_status']!=\"Current\"].groupby(['purpose','loan_status']).loan_status.count()\n",
    "freq_rnkcnt=pd.DataFrame(freq_rnkcnt)\n",
    "freq_rnkcnt.dropna(inplace=True,axis=0)\n",
    "\n",
    "freq_rnkcnt.rename(columns={\"loan_status\":\"Default Rate\"},inplace=True)\n",
    "freq_rnkcnt=pd.DataFrame(freq_rnkcnt.to_records())\n",
    "freq_rnkcnt.sort_values(by=\"Default Rate\",inplace=True,ascending=False)"
   ]
  },
  {
   "cell_type": "code",
   "execution_count": 23,
   "id": "738ae79d",
   "metadata": {
    "scrolled": true
   },
   "outputs": [
    {
     "data": {
      "text/plain": [
       "<AxesSubplot:xlabel='Default Rate', ylabel='purpose'>"
      ]
     },
     "execution_count": 23,
     "metadata": {},
     "output_type": "execute_result"
    },
    {
     "data": {
      "image/png": "[encoded data removed]",
      "text/plain": [
       "<Figure size 720x1440 with 1 Axes>"
      ]
     },
     "metadata": {
      "needs_background": "light"
     },
     "output_type": "display_data"
    }
   ],
   "source": [
    "plt.figure(figsize=(10,20))\n",
    "sns.barplot(x=\"Default Rate\",y=\"purpose\",data=freq_rnkcnt,hue=\"loan_status\")"
   ]
  },
  {
   "cell_type": "code",
   "execution_count": 37,
   "id": "21742fc6",
   "metadata": {
    "scrolled": true
   },
   "outputs": [
    {
     "data": {
      "text/html": [
       "<div>\n",
       "<style scoped>\n",
       "    .dataframe tbody tr th:only-of-type {\n",
       "        vertical-align: middle;\n",
       "    }\n",
       "\n",
       "    .dataframe tbody tr th {\n",
       "        vertical-align: top;\n",
       "    }\n",
       "\n",
       "    .dataframe thead th {\n",
       "        text-align: right;\n",
       "    }\n",
       "</style>\n",
       "<table border=\"1\" class=\"dataframe\">\n",
       "  <thead>\n",
       "    <tr style=\"text-align: right;\">\n",
       "      <th></th>\n",
       "      <th></th>\n",
       "      <th>count</th>\n",
       "    </tr>\n",
       "    <tr>\n",
       "      <th>term</th>\n",
       "      <th>loan_status</th>\n",
       "      <th></th>\n",
       "    </tr>\n",
       "  </thead>\n",
       "  <tbody>\n",
       "    <tr>\n",
       "      <th>36</th>\n",
       "      <th>Charged Off</th>\n",
       "      <td>2526</td>\n",
       "    </tr>\n",
       "    <tr>\n",
       "      <th>60</th>\n",
       "      <th>Charged Off</th>\n",
       "      <td>1856</td>\n",
       "    </tr>\n",
       "  </tbody>\n",
       "</table>\n",
       "</div>"
      ],
      "text/plain": [
       "                  count\n",
       "term loan_status       \n",
       "36   Charged Off   2526\n",
       "60   Charged Off   1856"
      ]
     },
     "execution_count": 37,
     "metadata": {},
     "output_type": "execute_result"
    }
   ],
   "source": [
    "#Let us now understand the correlation between the loan status and term here \n",
    "freq_rnkcnt_term=loans[loans['loan_status']==\"Charged Off\"].groupby(['term','loan_status']).loan_status.count()\n",
    "\n",
    "freq_rnkcnt_term=pd.DataFrame(freq_rnkcnt_term)\n",
    "freq_rnkcnt_term.rename(columns={\"loan_status\":\"count\"},inplace=True)\n",
    "freq_rnkcnt_term"
   ]
  },
  {
   "cell_type": "code",
   "execution_count": null,
   "id": "1ce1ca0d",
   "metadata": {},
   "outputs": [],
   "source": [
    "# Over 60% of the defaulters seems to be from higher tenure of 60 months. Could the Club be better off lending off for shorter tenures?  "
   ]
  },
  {
   "cell_type": "code",
   "execution_count": 38,
   "id": "daae390d",
   "metadata": {
    "scrolled": true
   },
   "outputs": [
    {
     "data": {
      "text/html": [
       "<div>\n",
       "<style scoped>\n",
       "    .dataframe tbody tr th:only-of-type {\n",
       "        vertical-align: middle;\n",
       "    }\n",
       "\n",
       "    .dataframe tbody tr th {\n",
       "        vertical-align: top;\n",
       "    }\n",
       "\n",
       "    .dataframe thead th {\n",
       "        text-align: right;\n",
       "    }\n",
       "</style>\n",
       "<table border=\"1\" class=\"dataframe\">\n",
       "  <thead>\n",
       "    <tr style=\"text-align: right;\">\n",
       "      <th></th>\n",
       "      <th>grade</th>\n",
       "      <th>loan_status</th>\n",
       "      <th>Percentage</th>\n",
       "    </tr>\n",
       "  </thead>\n",
       "  <tbody>\n",
       "    <tr>\n",
       "      <th>12</th>\n",
       "      <td>G</td>\n",
       "      <td>Charged Off</td>\n",
       "      <td>41.317365</td>\n",
       "    </tr>\n",
       "    <tr>\n",
       "      <th>13</th>\n",
       "      <td>G</td>\n",
       "      <td>Fully Paid</td>\n",
       "      <td>58.682635</td>\n",
       "    </tr>\n",
       "    <tr>\n",
       "      <th>10</th>\n",
       "      <td>F</td>\n",
       "      <td>Charged Off</td>\n",
       "      <td>34.880000</td>\n",
       "    </tr>\n",
       "    <tr>\n",
       "      <th>11</th>\n",
       "      <td>F</td>\n",
       "      <td>Fully Paid</td>\n",
       "      <td>65.120000</td>\n",
       "    </tr>\n",
       "    <tr>\n",
       "      <th>8</th>\n",
       "      <td>E</td>\n",
       "      <td>Charged Off</td>\n",
       "      <td>28.571429</td>\n",
       "    </tr>\n",
       "    <tr>\n",
       "      <th>9</th>\n",
       "      <td>E</td>\n",
       "      <td>Fully Paid</td>\n",
       "      <td>71.428571</td>\n",
       "    </tr>\n",
       "    <tr>\n",
       "      <th>6</th>\n",
       "      <td>D</td>\n",
       "      <td>Charged Off</td>\n",
       "      <td>22.525773</td>\n",
       "    </tr>\n",
       "    <tr>\n",
       "      <th>7</th>\n",
       "      <td>D</td>\n",
       "      <td>Fully Paid</td>\n",
       "      <td>77.474227</td>\n",
       "    </tr>\n",
       "    <tr>\n",
       "      <th>4</th>\n",
       "      <td>C</td>\n",
       "      <td>Charged Off</td>\n",
       "      <td>17.726747</td>\n",
       "    </tr>\n",
       "    <tr>\n",
       "      <th>5</th>\n",
       "      <td>C</td>\n",
       "      <td>Fully Paid</td>\n",
       "      <td>82.273253</td>\n",
       "    </tr>\n",
       "    <tr>\n",
       "      <th>2</th>\n",
       "      <td>B</td>\n",
       "      <td>Charged Off</td>\n",
       "      <td>12.670391</td>\n",
       "    </tr>\n",
       "    <tr>\n",
       "      <th>3</th>\n",
       "      <td>B</td>\n",
       "      <td>Fully Paid</td>\n",
       "      <td>87.329609</td>\n",
       "    </tr>\n",
       "    <tr>\n",
       "      <th>0</th>\n",
       "      <td>A</td>\n",
       "      <td>Charged Off</td>\n",
       "      <td>6.315233</td>\n",
       "    </tr>\n",
       "    <tr>\n",
       "      <th>1</th>\n",
       "      <td>A</td>\n",
       "      <td>Fully Paid</td>\n",
       "      <td>93.684767</td>\n",
       "    </tr>\n",
       "  </tbody>\n",
       "</table>\n",
       "</div>"
      ],
      "text/plain": [
       "   grade  loan_status  Percentage\n",
       "12     G  Charged Off   41.317365\n",
       "13     G   Fully Paid   58.682635\n",
       "10     F  Charged Off   34.880000\n",
       "11     F   Fully Paid   65.120000\n",
       "8      E  Charged Off   28.571429\n",
       "9      E   Fully Paid   71.428571\n",
       "6      D  Charged Off   22.525773\n",
       "7      D   Fully Paid   77.474227\n",
       "4      C  Charged Off   17.726747\n",
       "5      C   Fully Paid   82.273253\n",
       "2      B  Charged Off   12.670391\n",
       "3      B   Fully Paid   87.329609\n",
       "0      A  Charged Off    6.315233\n",
       "1      A   Fully Paid   93.684767"
      ]
     },
     "execution_count": 38,
     "metadata": {},
     "output_type": "execute_result"
    }
   ],
   "source": [
    "freq_rnkcnt_lc=(loans[(loans['loan_status']!=\"Current\")].groupby(['grade','loan_status']).grade.count()/loans[(loans['loan_status']!=\"Current\")].groupby(['grade']).grade.count())*100\n",
    "freq_rnkcnt_lc=pd.DataFrame(freq_rnkcnt_lc)\n",
    "freq_rnkcnt_lc.dropna(inplace=True,axis=0)\n",
    "freq_rnkcnt_lc.rename(columns={\"grade\":\"Percentage\"},inplace=True)\n",
    "freq_rnkcnt_lc=pd.DataFrame(freq_rnkcnt_lc.to_records())\n",
    "freq_rnkcnt_lc.sort_values(by=\"grade\",inplace=True,ascending=False)\n",
    "freq_rnkcnt_lc"
   ]
  },
  {
   "cell_type": "code",
   "execution_count": 28,
   "id": "0ab3b877",
   "metadata": {},
   "outputs": [
    {
     "data": {
      "text/plain": [
       "<AxesSubplot:xlabel='grade', ylabel='Percentage'>"
      ]
     },
     "execution_count": 28,
     "metadata": {},
     "output_type": "execute_result"
    },
    {
     "data": {
      "image/png": "[encoded data removed]",
      "text/plain": [
       "<Figure size 432x288 with 1 Axes>"
      ]
     },
     "metadata": {
      "needs_background": "light"
     },
     "output_type": "display_data"
    }
   ],
   "source": [
    "sns.barplot(x=\"grade\",y=\"Percentage\",data=freq_rnkcnt_lc,hue=\"loan_status\")"
   ]
  },
  {
   "cell_type": "code",
   "execution_count": null,
   "id": "1e217355",
   "metadata": {},
   "outputs": [],
   "source": [
    "# We also ee that the proportion of defaulters to those who have fully paid off their loans increases almost linearly as the profile moves from Grade A to Grage F. This indicates the need to restrict extending the loans to Grades A to C or A to D max.  "
   ]
  },
  {
   "cell_type": "code",
   "execution_count": 20,
   "id": "a8667587",
   "metadata": {},
   "outputs": [
    {
     "data": {
      "text/html": [
       "<div>\n",
       "<style scoped>\n",
       "    .dataframe tbody tr th:only-of-type {\n",
       "        vertical-align: middle;\n",
       "    }\n",
       "\n",
       "    .dataframe tbody tr th {\n",
       "        vertical-align: top;\n",
       "    }\n",
       "\n",
       "    .dataframe thead th {\n",
       "        text-align: right;\n",
       "    }\n",
       "</style>\n",
       "<table border=\"1\" class=\"dataframe\">\n",
       "  <thead>\n",
       "    <tr style=\"text-align: right;\">\n",
       "      <th></th>\n",
       "      <th>home_ownership</th>\n",
       "      <th>loan_status</th>\n",
       "      <th>Percentage</th>\n",
       "    </tr>\n",
       "  </thead>\n",
       "  <tbody>\n",
       "    <tr>\n",
       "      <th>0</th>\n",
       "      <td>MORTGAGE</td>\n",
       "      <td>Charged Off</td>\n",
       "      <td>13.277774</td>\n",
       "    </tr>\n",
       "    <tr>\n",
       "      <th>4</th>\n",
       "      <td>OWN</td>\n",
       "      <td>Charged Off</td>\n",
       "      <td>14.141414</td>\n",
       "    </tr>\n",
       "    <tr>\n",
       "      <th>6</th>\n",
       "      <td>RENT</td>\n",
       "      <td>Charged Off</td>\n",
       "      <td>15.023421</td>\n",
       "    </tr>\n",
       "    <tr>\n",
       "      <th>2</th>\n",
       "      <td>OTHER</td>\n",
       "      <td>Charged Off</td>\n",
       "      <td>18.750000</td>\n",
       "    </tr>\n",
       "    <tr>\n",
       "      <th>3</th>\n",
       "      <td>OTHER</td>\n",
       "      <td>Fully Paid</td>\n",
       "      <td>81.250000</td>\n",
       "    </tr>\n",
       "    <tr>\n",
       "      <th>7</th>\n",
       "      <td>RENT</td>\n",
       "      <td>Fully Paid</td>\n",
       "      <td>84.976579</td>\n",
       "    </tr>\n",
       "    <tr>\n",
       "      <th>5</th>\n",
       "      <td>OWN</td>\n",
       "      <td>Fully Paid</td>\n",
       "      <td>85.858586</td>\n",
       "    </tr>\n",
       "    <tr>\n",
       "      <th>1</th>\n",
       "      <td>MORTGAGE</td>\n",
       "      <td>Fully Paid</td>\n",
       "      <td>86.722226</td>\n",
       "    </tr>\n",
       "  </tbody>\n",
       "</table>\n",
       "</div>"
      ],
      "text/plain": [
       "  home_ownership  loan_status  Percentage\n",
       "0       MORTGAGE  Charged Off   13.277774\n",
       "4            OWN  Charged Off   14.141414\n",
       "6           RENT  Charged Off   15.023421\n",
       "2          OTHER  Charged Off   18.750000\n",
       "3          OTHER   Fully Paid   81.250000\n",
       "7           RENT   Fully Paid   84.976579\n",
       "5            OWN   Fully Paid   85.858586\n",
       "1       MORTGAGE   Fully Paid   86.722226"
      ]
     },
     "execution_count": 20,
     "metadata": {},
     "output_type": "execute_result"
    },
    {
     "data": {
      "image/png": "[encoded data removed]",
      "text/plain": [
       "<Figure size 432x288 with 1 Axes>"
      ]
     },
     "metadata": {
      "needs_background": "light"
     },
     "output_type": "display_data"
    }
   ],
   "source": [
    "#Plotting the correlation between the home ownership and loan status\n",
    "loans1 = loans.loc[loans['home_ownership']!=\"NONE\"]\n",
    "freq_rnkcnt_ownership=loans1[(loans1['loan_status']!=\"Current\")].groupby(['home_ownership','loan_status']).loan_status.count()*100/loans1[(loans1['loan_status']!=\"Current\")].groupby(['home_ownership']).loan_status.count()\n",
    "freq_rnkcnt_ownership=pd.DataFrame(freq_rnkcnt_ownership)\n",
    "freq_rnkcnt_ownership.rename(columns={\"loan_status\":\"Percentage\"},inplace=True)\n",
    "freq_rnkcnt_ownership=pd.DataFrame(freq_rnkcnt_ownership.to_records())\n",
    "freq_rnkcnt_ownership.sort_values(by=\"Percentage\",inplace=True)\n",
    "sns.barplot(x=\"home_ownership\",y=\"Percentage\",data=freq_rnkcnt_ownership,hue=\"loan_status\")\n",
    "# No clear correlation between home ownership and the Loan Status as there is no significant difference\n",
    "freq_rnkcnt_ownership"
   ]
  },
  {
   "cell_type": "code",
   "execution_count": null,
   "id": "8e04fe06",
   "metadata": {},
   "outputs": [],
   "source": [
    "# Again we see that the percentage of defaulters is higher in the \"Others\" category of home ownership. Suggesting that the Club would be better off extending its loans to those who have Mortgaged, Owned or Rented their homes (in that order)"
   ]
  },
  {
   "cell_type": "code",
   "execution_count": 39,
   "id": "c0a7a619",
   "metadata": {},
   "outputs": [
    {
     "data": {
      "text/plain": [
       "<AxesSubplot:xlabel='Percentage', ylabel='emp_length'>"
      ]
     },
     "execution_count": 39,
     "metadata": {},
     "output_type": "execute_result"
    },
    {
     "data": {
      "image/png": "[encoded data removed]",
      "text/plain": [
       "<Figure size 720x720 with 1 Axes>"
      ]
     },
     "metadata": {
      "needs_background": "light"
     },
     "output_type": "display_data"
    }
   ],
   "source": [
    "#Studying the effect of number of years of experience a person has on loan status\n",
    "freq_rnkcnt_emp=(loans[(loans['loan_status']!=\"Current\")].groupby(['emp_length','loan_status']).grade.count()/loans[(loans['loan_status']!=\"Current\")].groupby(['emp_length']).grade.count())*100\n",
    "freq_rnkcnt_emp=pd.DataFrame(freq_rnkcnt_emp)\n",
    "freq_rnkcnt_emp.dropna(inplace=True,axis=0)\n",
    "freq_rnkcnt_emp.rename(columns={\"grade\":\"Percentage\"},inplace=True)\n",
    "freq_rnkcnt_emp=pd.DataFrame(freq_rnkcnt_emp.to_records())\n",
    "freq_rnkcnt_emp.sort_values(by=\"Percentage\",inplace=True)\n",
    "freq_rnkcnt_emp\n",
    "plt.figure(figsize=(10,10))\n",
    "sns.barplot(x=\"Percentage\",y=\"emp_length\",data=freq_rnkcnt_emp,hue=\"loan_status\")\n"
   ]
  },
  {
   "cell_type": "code",
   "execution_count": null,
   "id": "8a8a4a77",
   "metadata": {},
   "outputs": [],
   "source": [
    "# Caution ! The proportion of defaulters seems to be highest among those who have been employed for 10 years or more. While it is obviously attractive to market loans to those who have been employed for long, it would be worthwhile to investigate why those with the highest number of years at their jobs are defaulting the most.      "
   ]
  },
  {
   "cell_type": "code",
   "execution_count": 32,
   "id": "e575b599",
   "metadata": {},
   "outputs": [
    {
     "data": {
      "text/plain": [
       "<AxesSubplot:ylabel='annual_inc'>"
      ]
     },
     "execution_count": 32,
     "metadata": {},
     "output_type": "execute_result"
    },
    {
     "data": {
      "image/png": "[encoded data removed]",
      "text/plain": [
       "<Figure size 360x1080 with 1 Axes>"
      ]
     },
     "metadata": {
      "needs_background": "light"
     },
     "output_type": "display_data"
    }
   ],
   "source": [
    "plt.figure(figsize=(5,15))\n",
    "sns.boxplot(y=\"annual_inc\",data=loans)"
   ]
  },
  {
   "cell_type": "code",
   "execution_count": 22,
   "id": "fbe9a96f",
   "metadata": {},
   "outputs": [
    {
     "data": {
      "text/plain": [
       "<AxesSubplot:ylabel='annual_inc'>"
      ]
     },
     "execution_count": 22,
     "metadata": {},
     "output_type": "execute_result"
    },
    {
     "data": {
      "image/png": "[encoded data removed]",
      "text/plain": [
       "<Figure size 360x1080 with 1 Axes>"
      ]
     },
     "metadata": {
      "needs_background": "light"
     },
     "output_type": "display_data"
    }
   ],
   "source": [
    "median = loans['annual_inc'].median()\n",
    "std = loans['annual_inc'].std()\n",
    "outliers = (loans['annual_inc'] - median).abs() > std\n",
    "loans[outliers] = np.nan\n",
    "loans['annual_inc'].fillna(median, inplace=True)\n",
    "plt.figure(figsize=(5,15))\n",
    "sns.boxplot(y=\"annual_inc\",data=loans)"
   ]
  },
  {
   "cell_type": "code",
   "execution_count": 33,
   "id": "fde32841",
   "metadata": {},
   "outputs": [
    {
     "data": {
      "text/plain": [
       "count    3.613600e+04\n",
       "mean     6.903275e+04\n",
       "std      6.462191e+04\n",
       "min      4.000000e+03\n",
       "25%      4.100000e+04\n",
       "50%      6.000000e+04\n",
       "75%      8.200000e+04\n",
       "max      6.000000e+06\n",
       "Name: annual_inc, dtype: float64"
      ]
     },
     "execution_count": 33,
     "metadata": {},
     "output_type": "execute_result"
    }
   ],
   "source": [
    "loans['annual_inc'].describe()"
   ]
  },
  {
   "cell_type": "code",
   "execution_count": null,
   "id": "ab5ede9e",
   "metadata": {},
   "outputs": [],
   "source": [
    "# We do see that the median salary of loan getters stands at 60,000. 75% are under 82,000.There are also outliers. \n",
    "# At the next step we decided to Classift the Income (a float) to three categories, High, Mid Range and Low, for ease of analysis. High = 90,000 and above, Mid Level = Above 40,000 but under 90,000 and Low: Upto 40,000."
   ]
  },
  {
   "cell_type": "code",
   "execution_count": 34,
   "id": "1c5fa9ab",
   "metadata": {},
   "outputs": [],
   "source": [
    "loans=loans[pd.notnull(loans['annual_inc'])]\n",
    "loans['annual_inc_classification']=pd.cut(loans['annual_inc'],[0,40000,80000,90000],labels=['Low','Mid Range','High'])\n",
    "loans=loans[pd.notnull(loans['annual_inc_classification'])]"
   ]
  },
  {
   "cell_type": "code",
   "execution_count": 30,
   "id": "f143cdef",
   "metadata": {},
   "outputs": [
    {
     "data": {
      "text/plain": [
       "<AxesSubplot:xlabel='annual_inc_classification', ylabel='Percentage'>"
      ]
     },
     "execution_count": 30,
     "metadata": {},
     "output_type": "execute_result"
    },
    {
     "data": {
      "image/png": "[encoded data removed]",
      "text/plain": [
       "<Figure size 432x288 with 1 Axes>"
      ]
     },
     "metadata": {
      "needs_background": "light"
     },
     "output_type": "display_data"
    }
   ],
   "source": [
    "freq_rnkcnt_annual=(loans[(loans['loan_status']!=\"Current\")].groupby(['annual_inc_classification','loan_status']).loan_status.count()/loans[(loans['loan_status']!=\"Current\")].groupby(['annual_inc_classification']).loan_status.count())*100\n",
    "freq_rnkcnt_annual=pd.DataFrame(freq_rnkcnt_annual)\n",
    "freq_rnkcnt_annual.rename(columns={\"loan_status\":\"Percentage\"},inplace=True)\n",
    "freq_rnkcnt_annual=pd.DataFrame(freq_rnkcnt_annual.to_records())\n",
    "freq_rnkcnt_annual.sort_values(by=\"Percentage\",inplace=True)\n",
    "\n",
    "sns.barplot(x=\"annual_inc_classification\",y=\"Percentage\",data=freq_rnkcnt_annual,hue=\"loan_status\")"
   ]
  },
  {
   "cell_type": "code",
   "execution_count": null,
   "id": "b23411ba",
   "metadata": {},
   "outputs": [],
   "source": [
    "#The proportion of defaulters went up as we moved downwards from the High Income Group to the Mow Income Group.\n",
    "# And did interest play a part?"
   ]
  },
  {
   "cell_type": "code",
   "execution_count": 36,
   "id": "f3853554",
   "metadata": {},
   "outputs": [
    {
     "data": {
      "text/plain": [
       "<AxesSubplot:xlabel='grade', ylabel='int_rate'>"
      ]
     },
     "execution_count": 36,
     "metadata": {},
     "output_type": "execute_result"
    },
    {
     "data": {
      "image/png": "[encoded data removed]",
      "text/plain": [
       "<Figure size 432x288 with 1 Axes>"
      ]
     },
     "metadata": {
      "needs_background": "light"
     },
     "output_type": "display_data"
    }
   ],
   "source": [
    "freq_rnkcnt_int=loans[(loans['loan_status']==\"Charged Off\")].groupby(['grade']).int_rate.mean()\n",
    "freq_rnkcnt_int=pd.DataFrame(freq_rnkcnt_int)\n",
    "freq_rnkcnt_int=pd.DataFrame(freq_rnkcnt_int.to_records())\n",
    "freq_rnkcnt_int.sort_values(by=\"int_rate\",inplace=True,ascending=False)\n",
    "sns.barplot(x=\"grade\",y=\"int_rate\",data=freq_rnkcnt_int)"
   ]
  },
  {
   "cell_type": "code",
   "execution_count": null,
   "id": "8a835743",
   "metadata": {},
   "outputs": [],
   "source": [
    "# There seems to be a positive correlation between Grade and Interest Rate of Defaulters. Grade then seems to be a Classification of Risk. The higher the risk, the higher the interest levied seems to be a logical conclusion. "
   ]
  },
  {
   "cell_type": "code",
   "execution_count": null,
   "id": "cb9de221",
   "metadata": {},
   "outputs": [],
   "source": [
    "# The STORY UNTIL NOW AND HYPOTHESES / IMPLICATIONS\n",
    "\n",
    "# 1. Over 60% of the defaulters seems to be from higher tenure of 60 months. THEREFORE: Ought the loan tenure be limited to 3 years / 36 months to increase chances of full repayment?\n",
    "# 2. The higher the Grade of the borrower(s), the greater is the proportion of defaulters as well as the Interest Rate. THEREFORE: The definition of “Grade” would need to be looked into.  If Grade = Increased Risk Profile, the numbers make sense.\n",
    "# 3. Those who do not Own, Mortgage or Rent their homes, and code “Others” are a larger proportion of defaulters. However, those coding “Others” are very few in number. THEREFORE: Those coding “Others” are very few and may be disregarded.\n",
    "# 4. The proportion of defaulters seems to be highest among those who have been employed for 10 years or more. THEREFORE: It is worth investigating if the Club should be restricting itself to those under 10 years of work experience.\n",
    "# 5. The lower the income bracket, the higher is the default rate. This is expected. THEREFORE: What could be done to discourage defaults?\n",
    "# 6. Investing for Small Business = reason for the biggest proportion of defaulters by percentage of borrowers. Those borrowing for Major Purchases, Weddings, Credit Card Payments and Cars formed a lower proportion of defaulters compared to the other reasons. THEREFORE: This point would require further investigation.\n",
    "# 7. But when it came to the total Number of Borrowers, those borrowing for Debt Consolidations, Credit Card Payments and Small businesses constituted a much larger cohort than others. THEREFORE: This point again, would need further investigation.\n",
    " \n",
    "  \n",
    "  \n"
   ]
  }
 ],
 "metadata": {
  "kernelspec": {
   "display_name": "Python 3 (ipykernel)",
   "language": "python",
   "name": "python3"
  },
  "language_info": {
   "codemirror_mode": {
    "name": "ipython",
    "version": 3
   },
   "file_extension": ".py",
   "mimetype": "text/x-python",
   "name": "python",
   "nbconvert_exporter": "python",
   "pygments_lexer": "ipython3",
   "version": "3.9.12"
  }
 },
 "nbformat": 4,
 "nbformat_minor": 5
}
